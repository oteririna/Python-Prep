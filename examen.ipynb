{
 "cells": [
  {
   "cell_type": "code",
   "execution_count": 25,
   "metadata": {},
   "outputs": [
    {
     "data": {
      "text/plain": [
       "True"
      ]
     },
     "execution_count": 25,
     "metadata": {},
     "output_type": "execute_result"
    }
   ],
   "source": [
    "def numeroCapicua(numero):\n",
    "    numero_str = str(numero)\n",
    "    numero_invertido_str = numero_str[::-1]\n",
    "    numero_invertido = int(numero_invertido_str)\n",
    "    if numero == numero_invertido:\n",
    "        return True\n",
    "    else:\n",
    "        return False\n",
    "    \n",
    "numeroCapicua(101)"
   ]
  },
  {
   "cell_type": "code",
   "execution_count": 67,
   "metadata": {},
   "outputs": [
    {
     "name": "stdout",
     "output_type": "stream",
     "text": [
      "120\n"
     ]
    }
   ],
   "source": [
    "\n",
    "\n",
    "def factorial (numero):\n",
    "    if not type(numero) == int:\n",
    "        return None\n",
    "    if not numero > 0:\n",
    "        return None\n",
    "    resultado=1\n",
    "    for i in range (1, numero+1):\n",
    "        resultado*=i\n",
    "    return resultado\n",
    "\n",
    "print(factorial(5))\n",
    "\n",
    "\n"
   ]
  },
  {
   "cell_type": "code",
   "execution_count": 107,
   "metadata": {},
   "outputs": [
    {
     "name": "stdout",
     "output_type": "stream",
     "text": [
      "11\n"
     ]
    }
   ],
   "source": [
    "#def proximoPrimo(actual_primo):\n",
    " #   '''\n",
    "  #  Esta función devuelve el número primo siguiente al enviado como parámetro.\n",
    "   # En caso de que el parámetro no sea de tipo entero y/o no sea un número primo, debe retornar nulo.\n",
    "    #Recibe un argumento:\n",
    "     #   actual_primo: Será el número primo a partir del cual debo buscar el siguiente\n",
    "    #Ej:\n",
    "     #   ProximoPrimo(7) debe retornar 11\n",
    "      #  ProximoPrimo(8) debe retornar nulo\n",
    "    #'''\n",
    "    ##Tu código aca:\n",
    "    #return 'Funcion incompleta'\n",
    "\n",
    "def proximoPrimo(actual_primo):\n",
    "    # validar si el numero es enter\n",
    "    if not type(actual_primo) == int:\n",
    "        return None\n",
    "    #validar si es o no primo\n",
    "    for i in range (2,actual_primo):\n",
    "        if actual_primo % i == 0:\n",
    "            return None\n",
    "    #buscar el siguiente primo\n",
    "    next_primo = actual_primo +1\n",
    "    while True:\n",
    "        for i in range (2,next_primo):\n",
    "            if next_primo % i == 0:\n",
    "                break\n",
    "        else:\n",
    "            return next_primo\n",
    "        next_primo+=1    \n",
    "\n",
    "print(proximoPrimo(7))\n",
    "\n",
    "\n",
    "     \n",
    "\n",
    "\n"
   ]
  },
  {
   "cell_type": "code",
   "execution_count": 131,
   "metadata": {},
   "outputs": [
    {
     "name": "stdout",
     "output_type": "stream",
     "text": [
      "None\n"
     ]
    }
   ],
   "source": [
    "#def factorizarNumero(numero):\n",
    "#    '''\n",
    " #   Esta función recibe como argumento un número entero mayor a cero y devuelva dos listas, \n",
    "  #  una con cada factor común y otra con su exponente, \n",
    "   # esas dos listas tienen que estar contenidas en otra lista.\n",
    "    #En caso de que el parámetro no sea de tipo entero y/ó mayor a cero debe retornar nulo.\n",
    "    #Recibe un argumento:\n",
    "     #   numero: Será el número sobre el que se hará la factorización.\n",
    "    #Ej:\n",
    "\n",
    "     #   factorizar_numero(12) debe retornar [[2,3],[2,1]]\n",
    "      #  factorizar_numero(13) debe retornar [[13],[1]]\n",
    "       # factorizar_numero(14) debe retornar [[2,7],[1,1]]\n",
    "    #'''\n",
    "    #Tu código aca:\n",
    "    #return 'Funcion incompleta'.\n",
    "\n",
    "\n",
    "\n",
    "\n",
    "# def common_factors(n):\n",
    "#     factors = []\n",
    "#     exponents = []\n",
    "#     divisor = 2\n",
    "#     while divisor * divisor <= n:\n",
    "#         exponent = 0\n",
    "#         while n % divisor == 0:\n",
    "#             exponent += 1\n",
    "#             n //= divisor\n",
    "#         if exponent > 0:\n",
    "#             factors.append(divisor)\n",
    "#             exponents.append(exponent)\n",
    "#         divisor += 1\n",
    "#     if n > 1:\n",
    "#         factors.append(n)\n",
    "#         exponents.append(1)\n",
    "#     return [factors, exponents]\n",
    "def factorizarNumero(numero):\n",
    "    if not type(numero) == int:\n",
    "        return None\n",
    "    if not numero > 0:\n",
    "        return None\n",
    "    factoresComunes = []\n",
    "    listaExponentes = []\n",
    "\n",
    "    div=2\n",
    "    while div * div <= numero:\n",
    "        exponente = 0 \n",
    "        while numero % div == 0:\n",
    "            exponente +=1\n",
    "            numero //= div\n",
    "        if exponente > 0:\n",
    "            factoresComunes.append(div)\n",
    "            listaExponentes.append(exponente) \n",
    "        div +=1\n",
    "\n",
    "    if numero > 1:\n",
    "        factoresComunes.append(numero)\n",
    "        listaExponentes.append(1)\n",
    "    return [factoresComunes, listaExponentes]     \n",
    "\n",
    "\n",
    "print(factorizarNumero(\"s\"))\n"
   ]
  },
  {
   "cell_type": "code",
   "execution_count": 133,
   "metadata": {},
   "outputs": [
    {
     "name": "stdout",
     "output_type": "stream",
     "text": [
      "[1]\n"
     ]
    }
   ],
   "source": [
    "def listaDeListas(lista):\n",
    "  #  '''\n",
    " #   Esta función recibe una lista, que puede contener elementos que a su vez sean listas y\n",
    " #   devuelve esos elementos por separado en una lista única. \n",
    "  #  En caso de que el parámetro no sea de tipo lista, debe retornar nulo.\n",
    "  #  Recibe un argumento:\n",
    "  #      lista: La lista que puede contener otras listas y se convierte a una \n",
    "  #      lista de elementos únicos o no iterables.\n",
    "  #  Ej:\n",
    "    #    ListaDeListas([1,2,['a','b'],[10]]) debe retornar [1,2,'a','b',10]\n",
    "   #     ListaDeListas(108) debe retornar el valor nulo.\n",
    "  #      ListaDeListas([[1,2,[3]],[4]]) debe retornar [1,2,3,4]\n",
    " #'''\n",
    "    #Tu código aca:\n",
    "  #return 'Funcion incompleta'\n",
    "  \n",
    "\n",
    "  lista2 = []\n",
    "  for element in lista:\n",
    "    if isinstance(element, list):\n",
    "      lista2.extend(listaDeListas(element))\n",
    "    else:\n",
    "      lista2.append(element)\n",
    "      return lista2\n",
    "\n",
    "\n",
    "print(listaDeListas([1,2,3,[4,5,6],3]))\n"
   ]
  },
  {
   "cell_type": "code",
   "execution_count": null,
   "metadata": {},
   "outputs": [],
   "source": []
  }
 ],
 "metadata": {
  "kernelspec": {
   "display_name": "Python 3",
   "language": "python",
   "name": "python3"
  },
  "language_info": {
   "codemirror_mode": {
    "name": "ipython",
    "version": 3
   },
   "file_extension": ".py",
   "mimetype": "text/x-python",
   "name": "python",
   "nbconvert_exporter": "python",
   "pygments_lexer": "ipython3",
   "version": "3.10.7"
  },
  "orig_nbformat": 4
 },
 "nbformat": 4,
 "nbformat_minor": 2
}
