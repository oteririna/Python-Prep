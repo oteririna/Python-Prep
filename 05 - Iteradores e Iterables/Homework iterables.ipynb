{
 "cells": [
  {
   "cell_type": "code",
   "execution_count": 4,
   "metadata": {},
   "outputs": [
    {
     "name": "stdout",
     "output_type": "stream",
     "text": [
      "[-15, -14, -13, -12, -11, -10, -9, -8, -7, -6, -5, -4, -3, -2, -1]\n"
     ]
    }
   ],
   "source": [
    "#1) A partir de una lista vacía, utilizar un ciclo while para cargar allí números negativos del -15 al -1\n",
    "a=-15\n",
    "lista=[]\n",
    "\n",
    "for a in range (-15,0):\n",
    " lista.append(a)\n",
    "\n",
    "print (lista)\n",
    "\n"
   ]
  },
  {
   "cell_type": "code",
   "execution_count": 17,
   "metadata": {},
   "outputs": [
    {
     "name": "stdout",
     "output_type": "stream",
     "text": [
      "0 El elemento es par\n",
      "2 El elemento es par\n",
      "4 El elemento es par\n",
      "6 El elemento es par\n",
      "8 El elemento es par\n",
      "10 El elemento es par\n",
      "12 El elemento es par\n",
      "14 El elemento es par\n"
     ]
    }
   ],
   "source": [
    "#2) ¿Con un ciclo while sería posible recorrer la lista para imprimir sólo los números pares?\n",
    "\n",
    "indice=0\n",
    "while indice < len(lista):\n",
    "    if indice%2 == 0:\n",
    "        print(indice, \"El elemento es par\")\n",
    "\n",
    "    indice=indice+1"
   ]
  },
  {
   "cell_type": "code",
   "execution_count": 18,
   "metadata": {},
   "outputs": [
    {
     "name": "stdout",
     "output_type": "stream",
     "text": [
      "-14 El numero es par\n",
      "-12 El numero es par\n",
      "-10 El numero es par\n",
      "-8 El numero es par\n",
      "-6 El numero es par\n",
      "-4 El numero es par\n",
      "-2 El numero es par\n"
     ]
    }
   ],
   "source": [
    "#3) Resolver el punto anterior sin utilizar un ciclo while\n",
    "\n",
    "for elemento in lista:\n",
    "    if elemento%2 ==0:\n",
    "        print(elemento,\"El numero es par\")\n"
   ]
  },
  {
   "cell_type": "code",
   "execution_count": 23,
   "metadata": {},
   "outputs": [
    {
     "name": "stdout",
     "output_type": "stream",
     "text": [
      "0\n",
      "1\n",
      "2\n"
     ]
    }
   ],
   "source": [
    "#4) Utilizar el iterable para recorrer sólo los primeros 3 elementos\n",
    "cadena=[0,1,2,1]\n",
    "for i in range (0,3):\n",
    "    print (i)\n"
   ]
  },
  {
   "cell_type": "code",
   "execution_count": 24,
   "metadata": {},
   "outputs": [
    {
     "name": "stdout",
     "output_type": "stream",
     "text": [
      "(0, 0)\n",
      "(1, 1)\n",
      "(2, 2)\n",
      "(3, 1)\n"
     ]
    }
   ],
   "source": [
    "#5) Utilizar la función **enumerate** para obtener dentro del iterable, tambien el índice al que corresponde el elemento\n",
    "\n",
    "for i in enumerate(cadena):\n",
    "    print (i)"
   ]
  },
  {
   "cell_type": "code",
   "execution_count": 28,
   "metadata": {},
   "outputs": [
    {
     "name": "stdout",
     "output_type": "stream",
     "text": [
      "[1, 2, 3, 4, 5, 6, 7, 8, 9, 10, 11, 12, 13, 14, 15, 16, 17, 18, 19, 20]\n"
     ]
    }
   ],
   "source": [
    "#6) Dada la siguiente lista de números enteros entre 1 y 20, crear un ciclo donde se completen los valores faltantes: \n",
    "lista = [1,2,5,7,8,10,13,14,15,17,20]\n",
    "\n",
    "n = 1\n",
    "while(n <= 20):\n",
    "    if (not(n in lista)):\n",
    "        lista.insert((n-1), n)\n",
    "    n += 1\n",
    "print(lista)\n",
    "\n"
   ]
  },
  {
   "cell_type": "code",
   "execution_count": 30,
   "metadata": {},
   "outputs": [
    {
     "name": "stdout",
     "output_type": "stream",
     "text": [
      "[21, 35, 42, 56, 63, 84, 91]\n"
     ]
    }
   ],
   "source": [
    "#14) A partir de la siguiente lista de números, crear una nueva sólo si el número es divisible por 7\n",
    "lis = [18,21,29,32,35,42,56,60,63,71,84,90,91,100]\n",
    "lis2 = [i for i in lis if i % 7 == 0]\n",
    "print(lis2)\n",
    "\n",
    "\n",
    "\n",
    "        "
   ]
  }
 ],
 "metadata": {
  "kernelspec": {
   "display_name": "Python 3",
   "language": "python",
   "name": "python3"
  },
  "language_info": {
   "codemirror_mode": {
    "name": "ipython",
    "version": 3
   },
   "file_extension": ".py",
   "mimetype": "text/x-python",
   "name": "python",
   "nbconvert_exporter": "python",
   "pygments_lexer": "ipython3",
   "version": "3.10.7"
  },
  "orig_nbformat": 4
 },
 "nbformat": 4,
 "nbformat_minor": 2
}
