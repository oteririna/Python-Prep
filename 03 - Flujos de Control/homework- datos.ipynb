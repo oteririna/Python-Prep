{
 "cells": [
  {
   "cell_type": "code",
   "execution_count": 1,
   "metadata": {},
   "outputs": [
    {
     "name": "stdout",
     "output_type": "stream",
     "text": [
      "['Berlin', 'Munich', 'Buenos Aires', 'Madrid', 'Barcelona']\n"
     ]
    }
   ],
   "source": [
    "\n",
    "#1) Crear una lista que contenga nombres de ciudades del mundo que contenga más de 5 elementos e imprimir por pantalla\n",
    "\n",
    "ciudades=[\"Berlin\",\"Munich\", \"Buenos Aires\", \"Madrid\", \"Barcelona\"]\n",
    "print(ciudades)"
   ]
  },
  {
   "cell_type": "code",
   "execution_count": 2,
   "metadata": {},
   "outputs": [
    {
     "name": "stdout",
     "output_type": "stream",
     "text": [
      "Buenos Aires\n"
     ]
    }
   ],
   "source": [
    "#2) Imprimir por pantalla el segundo elemento de la lista\n",
    "\n",
    "print(ciudades[2])"
   ]
  },
  {
   "cell_type": "code",
   "execution_count": 3,
   "metadata": {},
   "outputs": [
    {
     "name": "stdout",
     "output_type": "stream",
     "text": [
      "['Buenos Aires', 'Madrid']\n"
     ]
    }
   ],
   "source": [
    "#3) Imprimir por pantalla del segundo al cuarto elemento\n",
    "print(ciudades[2:4])"
   ]
  },
  {
   "cell_type": "code",
   "execution_count": 4,
   "metadata": {},
   "outputs": [
    {
     "data": {
      "text/plain": [
       "list"
      ]
     },
     "execution_count": 4,
     "metadata": {},
     "output_type": "execute_result"
    }
   ],
   "source": [
    "#4) Visualizar el tipo de dato de la lista\n",
    "type(ciudades)"
   ]
  },
  {
   "cell_type": "code",
   "execution_count": 8,
   "metadata": {},
   "outputs": [
    {
     "name": "stdout",
     "output_type": "stream",
     "text": [
      "['Buenos Aires', 'Madrid', 'Barcelona']\n"
     ]
    }
   ],
   "source": [
    "#5) Visualizar todos los elementos de la lista a partir del tercero de manera genérica, es decir, sin explicitar la posición del último elemento\n",
    "\n",
    "print(ciudades[2:])"
   ]
  },
  {
   "cell_type": "code",
   "execution_count": 10,
   "metadata": {},
   "outputs": [
    {
     "name": "stdout",
     "output_type": "stream",
     "text": [
      "['Berlin', 'Munich', 'Buenos Aires', 'Madrid']\n"
     ]
    }
   ],
   "source": [
    "#6) Visualizar los primeros 4 elementos de la lista\n",
    "print(ciudades[:4])"
   ]
  },
  {
   "cell_type": "code",
   "execution_count": 12,
   "metadata": {},
   "outputs": [
    {
     "name": "stdout",
     "output_type": "stream",
     "text": [
      "['Berlin', 'Munich', 'Buenos Aires', 'Madrid', 'Barcelona', 'Florencia']\n"
     ]
    }
   ],
   "source": [
    "#7) Agregar una ciudad más a la lista que ya exista y otra que no ¿Arroja algún tipo de error?\n",
    "\n",
    "ciudades.append(\"Florencia\")\n",
    "print(ciudades)"
   ]
  },
  {
   "cell_type": "code",
   "execution_count": 13,
   "metadata": {},
   "outputs": [
    {
     "name": "stdout",
     "output_type": "stream",
     "text": [
      "['Berlin', 'Munich', 'Buenos Aires', 'Tokyo', 'Madrid', 'Barcelona', 'Florencia']\n"
     ]
    }
   ],
   "source": [
    "#8) Agregar otra ciudad, pero en la cuarta posición\n",
    "\n",
    "ciudades.insert(3,\"Tokyo\")\n",
    "print(ciudades)"
   ]
  },
  {
   "cell_type": "code",
   "execution_count": 14,
   "metadata": {},
   "outputs": [
    {
     "name": "stdout",
     "output_type": "stream",
     "text": [
      "[['Berlin', 'Munich', 'Buenos Aires', 'Tokyo', 'Madrid', 'Barcelona', 'Florencia'], ['Roma', 'Paris', 'Amsterdam']]\n"
     ]
    }
   ],
   "source": [
    "#9) Concatenar otra lista a la ya creada\n",
    "\n",
    "ciudades2=[\"Roma\",\"Paris\",\"Amsterdam\"]\n",
    "ciudades3=[ciudades,ciudades2]\n",
    "print(ciudades3)"
   ]
  },
  {
   "cell_type": "code",
   "execution_count": 15,
   "metadata": {},
   "outputs": [
    {
     "data": {
      "text/plain": [
       "6"
      ]
     },
     "execution_count": 15,
     "metadata": {},
     "output_type": "execute_result"
    }
   ],
   "source": [
    "#10) Encontrar el índice de la ciudad que en el punto 7 agregamos duplicada. ¿Se nota alguna particularidad?\n",
    "ciudades.index(\"Florencia\")"
   ]
  },
  {
   "cell_type": "code",
   "execution_count": 16,
   "metadata": {},
   "outputs": [
    {
     "ename": "ValueError",
     "evalue": "'Guatemala' is not in list",
     "output_type": "error",
     "traceback": [
      "\u001b[1;31m---------------------------------------------------------------------------\u001b[0m",
      "\u001b[1;31mValueError\u001b[0m                                Traceback (most recent call last)",
      "Cell \u001b[1;32mIn[16], line 2\u001b[0m\n\u001b[0;32m      1\u001b[0m \u001b[39m#11) ¿Qué pasa si se busca un elemento que no existe?\u001b[39;00m\n\u001b[1;32m----> 2\u001b[0m ciudades\u001b[39m.\u001b[39;49mindex(\u001b[39m\"\u001b[39;49m\u001b[39mGuatemala\u001b[39;49m\u001b[39m\"\u001b[39;49m)\n",
      "\u001b[1;31mValueError\u001b[0m: 'Guatemala' is not in list"
     ]
    }
   ],
   "source": [
    "#11) ¿Qué pasa si se busca un elemento que no existe? \n",
    "ciudades.index(\"Guatemala\")"
   ]
  },
  {
   "cell_type": "code",
   "execution_count": 21,
   "metadata": {},
   "outputs": [
    {
     "name": "stdout",
     "output_type": "stream",
     "text": [
      "['Berlin', 'Buenos Aires', 'Tokyo', 'Madrid']\n"
     ]
    }
   ],
   "source": [
    "#12) Eliminar un elemento de la lista\n",
    "ciudades.pop()\n",
    "print(ciudades)"
   ]
  },
  {
   "cell_type": "code",
   "execution_count": 22,
   "metadata": {},
   "outputs": [
    {
     "ename": "ValueError",
     "evalue": "'San Rafael' is not in list",
     "output_type": "error",
     "traceback": [
      "\u001b[1;31m---------------------------------------------------------------------------\u001b[0m",
      "\u001b[1;31mValueError\u001b[0m                                Traceback (most recent call last)",
      "Cell \u001b[1;32mIn[22], line 2\u001b[0m\n\u001b[0;32m      1\u001b[0m \u001b[39m#13) ¿Qué pasa si el elemento a eliminar no existe?\u001b[39;00m\n\u001b[1;32m----> 2\u001b[0m ciudades\u001b[39m.\u001b[39;49mindex(\u001b[39m\"\u001b[39;49m\u001b[39mSan Rafael\u001b[39;49m\u001b[39m\"\u001b[39;49m)\n",
      "\u001b[1;31mValueError\u001b[0m: 'San Rafael' is not in list"
     ]
    }
   ],
   "source": [
    "#13) ¿Qué pasa si el elemento a eliminar no existe?\n",
    "ciudades.index(\"San Rafael\")"
   ]
  },
  {
   "cell_type": "code",
   "execution_count": 23,
   "metadata": {},
   "outputs": [
    {
     "name": "stdout",
     "output_type": "stream",
     "text": [
      "Madrid\n"
     ]
    }
   ],
   "source": [
    "#14) Extraer el úlimo elemento de la lista, guardarlo en una variable e imprimirlo\n",
    "a=ciudades.pop()\n",
    "print(a)\n"
   ]
  },
  {
   "cell_type": "code",
   "execution_count": 24,
   "metadata": {},
   "outputs": [
    {
     "name": "stdout",
     "output_type": "stream",
     "text": [
      "['Berlin', 'Buenos Aires', 'Tokyo', 'Berlin', 'Buenos Aires', 'Tokyo', 'Berlin', 'Buenos Aires', 'Tokyo']\n"
     ]
    }
   ],
   "source": [
    "#15) Mostrar la lista multiplicada por 4\n",
    "mul=ciudades*3\n",
    "print(mul)"
   ]
  },
  {
   "cell_type": "code",
   "execution_count": 30,
   "metadata": {},
   "outputs": [
    {
     "name": "stdout",
     "output_type": "stream",
     "text": [
      "(5, 6, 7, 8, 9, 10)\n"
     ]
    }
   ],
   "source": [
    "#16) Crear una tupla que contenga los números enteros del 1 al 20\n",
    "#17) Imprimir desde el índice 10 al 15 de la tupla\n",
    "\n",
    "t=(1,2,3,4,5,6,7,8,9,10,11,12,13,14,15)\n",
    "rango = t[4:10]\n",
    "print (rango)"
   ]
  },
  {
   "cell_type": "code",
   "execution_count": 25,
   "metadata": {},
   "outputs": [
    {
     "ename": "NameError",
     "evalue": "name 'tupla' is not defined",
     "output_type": "error",
     "traceback": [
      "\u001b[1;31m---------------------------------------------------------------------------\u001b[0m",
      "\u001b[1;31mNameError\u001b[0m                                 Traceback (most recent call last)",
      "Cell \u001b[1;32mIn[25], line 2\u001b[0m\n\u001b[0;32m      1\u001b[0m \u001b[39m#17) Imprimir desde el índice 10 al 15 de la tupla\u001b[39;00m\n\u001b[1;32m----> 2\u001b[0m \u001b[39mprint\u001b[39m(tupla(\u001b[39m0\u001b[39m,\u001b[39m3\u001b[39m))\n",
      "\u001b[1;31mNameError\u001b[0m: name 'tupla' is not defined"
     ]
    }
   ],
   "source": [
    "#18) Evaluar si los números 20 y 30 están dentro de la tupla\n",
    "\n",
    "\n",
    "\n"
   ]
  },
  {
   "cell_type": "code",
   "execution_count": 34,
   "metadata": {},
   "outputs": [
    {
     "name": "stdout",
     "output_type": "stream",
     "text": [
      "['Berlin', 'Buenos Aires', 'Tokyo', 'Paris', 'Paris']\n",
      "['Berlin', 'Buenos Aires', 'Tokyo', 'Paris', 'Paris', 'Paris']\n",
      "El elemento se encuentra dentro de la lista\n"
     ]
    }
   ],
   "source": [
    "#19) Con la lista creada en el punto 1, validar la existencia del elemento 'París' y si no existe, agregarlo. Utilizar una variable e informar lo sucedido.\n",
    "\n",
    "print(ciudades)\n",
    "ciudades.append(\"Paris\")\n",
    "print(ciudades)\n",
    "\n",
    "elemento=\"Paris\"\n",
    "\n",
    "if elemento in ciudades:\n",
    "    print(\"El elemento se encuentra dentro de la lista\")\n",
    "else:\n",
    "    print(\"El elemento no se encuentra en la lista\")"
   ]
  },
  {
   "cell_type": "code",
   "execution_count": 40,
   "metadata": {},
   "outputs": [
    {
     "name": "stdout",
     "output_type": "stream",
     "text": [
      "El elemento aparece 5  veces\n",
      "El elemento aparece 2  veces\n"
     ]
    }
   ],
   "source": [
    "#20) Mostrar la cantidad de veces que se encuentra un elemento específico dentro de la tupla y de la lista\n",
    "\n",
    "tu=(1,2,3,3,3,3,3,4,6,7,7)\n",
    "li=[\"Irina\", \"Santiago\", \"Toki\", \"Toki\"]\n",
    "\n",
    "elemento=3\n",
    "c=tu.count(elemento)\n",
    "print(\"El elemento aparece\",c,\" veces\")\n",
    "\n",
    "elemento1=\"Toki\"\n",
    "f=li.count(elemento1)\n",
    "print(\"El elemento aparece\",f,\" veces\")\n"
   ]
  },
  {
   "cell_type": "code",
   "execution_count": 42,
   "metadata": {},
   "outputs": [
    {
     "name": "stdout",
     "output_type": "stream",
     "text": [
      "[1, 2, 3]\n"
     ]
    }
   ],
   "source": [
    "#21) Convertir la tupla en una lista\n",
    "\n",
    "tupla1=(1,2,3)\n",
    "type(tupla1)\n",
    "lista1=list(tupla1)\n",
    "type(lista1)\n",
    "print(lista1)"
   ]
  },
  {
   "cell_type": "code",
   "execution_count": 43,
   "metadata": {},
   "outputs": [
    {
     "name": "stdout",
     "output_type": "stream",
     "text": [
      "1 2 3\n"
     ]
    }
   ],
   "source": [
    "#22) Desempaquetar solo los primeros 3 elementos de la tupla en 3 variables\n",
    "\n",
    "var1, var2, var3=tupla1\n",
    "\n",
    "print(var1, var2, var3)"
   ]
  },
  {
   "cell_type": "code",
   "execution_count": 44,
   "metadata": {},
   "outputs": [],
   "source": [
    "#23) Crear un diccionario utilizando la lista crada en el punto 1, asignandole la clave \"ciudad\". Agregar tambien otras claves, como puede ser \"Pais\" y \"Continente\".\n",
    "\n",
    "mun= {\"ciudades\":[\"Paris\",\"Buenos Aires\",\"Berlin\"],\"paises\":[\"Francia\",\"Argentina\",\"Alemania\"], \"Continente\":[\"America\",\"Europa\"]}"
   ]
  },
  {
   "cell_type": "code",
   "execution_count": 45,
   "metadata": {},
   "outputs": [
    {
     "name": "stdout",
     "output_type": "stream",
     "text": [
      "dict_keys(['ciudades', 'paises', 'Continente'])\n"
     ]
    }
   ],
   "source": [
    "#24) Imprimir las claves del diccionario\n",
    "print(mun.keys())"
   ]
  },
  {
   "cell_type": "code",
   "execution_count": 46,
   "metadata": {},
   "outputs": [
    {
     "name": "stdout",
     "output_type": "stream",
     "text": [
      "dict_values([['Paris', 'Buenos Aires', 'Berlin'], ['Francia', 'Argentina', 'Alemania'], ['America', 'Europa']])\n"
     ]
    }
   ],
   "source": [
    "#25) Imprimir las ciudades a través de su clave\n",
    "print(mun.values())"
   ]
  }
 ],
 "metadata": {
  "kernelspec": {
   "display_name": "Python 3",
   "language": "python",
   "name": "python3"
  },
  "language_info": {
   "codemirror_mode": {
    "name": "ipython",
    "version": 3
   },
   "file_extension": ".py",
   "mimetype": "text/x-python",
   "name": "python",
   "nbconvert_exporter": "python",
   "pygments_lexer": "ipython3",
   "version": "3.10.7"
  },
  "orig_nbformat": 4
 },
 "nbformat": 4,
 "nbformat_minor": 2
}
